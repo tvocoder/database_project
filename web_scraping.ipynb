{
 "cells": [
  {
   "cell_type": "code",
   "execution_count": 25,
   "metadata": {},
   "outputs": [],
   "source": [
    "import requests\n",
    "from bs4 import BeautifulSoup as bs"
   ]
  },
  {
   "cell_type": "code",
   "execution_count": 90,
   "metadata": {},
   "outputs": [],
   "source": [
    "url = 'https://www.ratemyprofessors.com/ShowRatings.jsp?tid=2051130'"
   ]
  },
  {
   "cell_type": "code",
   "execution_count": 91,
   "metadata": {},
   "outputs": [],
   "source": [
    "page = requests.get(url)"
   ]
  },
  {
   "cell_type": "code",
   "execution_count": 92,
   "metadata": {},
   "outputs": [
    {
     "name": "stdout",
     "output_type": "stream",
     "text": [
      "<Response [200]>\n"
     ]
    }
   ],
   "source": [
    "print(page)"
   ]
  },
  {
   "cell_type": "code",
   "execution_count": 93,
   "metadata": {},
   "outputs": [],
   "source": [
    "soup = bs(page.text, \"html.parser\")"
   ]
  },
  {
   "cell_type": "code",
   "execution_count": 165,
   "metadata": {},
   "outputs": [],
   "source": [
    "qual_diff = soup.find_all(\"div\", {\"class\": \"RatingValues__StyledRatingValues-sc-6dc747-0 bJSTHc\"})"
   ]
  },
  {
   "cell_type": "code",
   "execution_count": 213,
   "metadata": {},
   "outputs": [],
   "source": [
    "qual_diff_list = []\n",
    "\n",
    "for tag in qual_diff:\n",
    "    qual_diff_list.append([tag.get_text()])"
   ]
  },
  {
   "cell_type": "code",
   "execution_count": 214,
   "metadata": {},
   "outputs": [
    {
     "name": "stdout",
     "output_type": "stream",
     "text": [
      "['Quality5.0Difficulty2.0']\n",
      "['Quality5.0Difficulty4.0']\n",
      "['Quality3.0Difficulty5.0']\n",
      "['Quality5.0Difficulty2.0']\n",
      "['Quality1.0Difficulty4.0']\n",
      "['Quality5.0Difficulty1.0']\n",
      "['Quality3.0Difficulty4.0']\n",
      "['Quality5.0Difficulty3.0']\n",
      "['Quality5.0Difficulty3.0']\n",
      "['Quality5.0Difficulty3.0']\n",
      "['Quality5.0Difficulty1.0']\n",
      "['Quality5.0Difficulty1.0']\n",
      "['Quality5.0Difficulty1.0']\n",
      "['Quality5.0Difficulty1.0']\n",
      "['Quality5.0Difficulty3.0']\n",
      "['Quality5.0Difficulty1.0']\n",
      "['Quality5.0Difficulty1.0']\n",
      "['Quality5.0Difficulty1.0']\n",
      "['Quality5.0Difficulty1.0']\n",
      "['Quality5.0Difficulty1.0']\n"
     ]
    }
   ],
   "source": [
    "for elem in qual_diff_list:\n",
    "    print(elem)"
   ]
  },
  {
   "cell_type": "code",
   "execution_count": 203,
   "metadata": {},
   "outputs": [],
   "source": [
    "course_info = soup.find_all(\"div\", {\"class\" : \"RatingHeader__ClassInfoWrapper-sc-1dlkqw1-1 jxOApy\" })"
   ]
  },
  {
   "cell_type": "code",
   "execution_count": 204,
   "metadata": {},
   "outputs": [],
   "source": [
    "time_stamp = soup.find_all(\"div\", {\"class\" : \"TimeStamp__StyledTimeStamp-sc-9q2r30-0 bXQmMr RatingHeader__RatingTimeStamp-sc-1dlkqw1-3 BlaCV\"})"
   ]
  },
  {
   "cell_type": "code",
   "execution_count": 205,
   "metadata": {
    "scrolled": true
   },
   "outputs": [],
   "source": [
    "post_date = []\n",
    "\n",
    "for tag in time_stamp:\n",
    "    post_date.append([tag.string])"
   ]
  },
  {
   "cell_type": "code",
   "execution_count": 192,
   "metadata": {},
   "outputs": [
    {
     "name": "stdout",
     "output_type": "stream",
     "text": [
      "May 15th, 2020\n",
      "May 15th, 2020\n",
      "May 14th, 2020\n",
      "May 14th, 2020\n",
      "May 3rd, 2020\n",
      "May 3rd, 2020\n",
      "Aug 7th, 2019\n",
      "Aug 7th, 2019\n",
      "Jun 25th, 2019\n",
      "Jun 25th, 2019\n",
      "Apr 11th, 2019\n",
      "Apr 11th, 2019\n",
      "Jan 4th, 2019\n",
      "Jan 4th, 2019\n",
      "Dec 8th, 2018\n",
      "Dec 8th, 2018\n",
      "Oct 11th, 2017\n",
      "Oct 11th, 2017\n",
      "Aug 12th, 2017\n",
      "Aug 12th, 2017\n",
      "May 15th, 2017\n",
      "May 15th, 2017\n",
      "Mar 24th, 2017\n",
      "Mar 24th, 2017\n",
      "Mar 10th, 2017\n",
      "Mar 10th, 2017\n",
      "Feb 7th, 2017\n",
      "Feb 7th, 2017\n",
      "Jan 26th, 2017\n",
      "Jan 26th, 2017\n",
      "Dec 27th, 2016\n",
      "Dec 27th, 2016\n",
      "Oct 20th, 2016\n",
      "Oct 20th, 2016\n",
      "Oct 2nd, 2016\n",
      "Oct 2nd, 2016\n",
      "Sep 13th, 2016\n",
      "Sep 13th, 2016\n",
      "Sep 13th, 2016\n",
      "Sep 13th, 2016\n"
     ]
    }
   ],
   "source": [
    "for elem in post_date:\n",
    "    print(elem)"
   ]
  },
  {
   "cell_type": "code",
   "execution_count": 193,
   "metadata": {},
   "outputs": [],
   "source": [
    "meta_data = soup.find_all(\"div\", {\"class\" : \"CourseMeta__StyledCourseMeta-x344ms-0 dgqjDO\"})"
   ]
  },
  {
   "cell_type": "code",
   "execution_count": 206,
   "metadata": {},
   "outputs": [],
   "source": [
    "meta_data_list = []\n",
    "\n",
    "for tag in meta_data:\n",
    "    meta_data_list.append([tag.get_text()])"
   ]
  },
  {
   "cell_type": "code",
   "execution_count": 207,
   "metadata": {},
   "outputs": [
    {
     "name": "stdout",
     "output_type": "stream",
     "text": [
      "['For Credit: YesAttendance: MandatoryWould Take Again: YesGrade: ATextbook: Yes']\n",
      "['For Credit: YesAttendance: MandatoryWould Take Again: YesGrade: ATextbook: Yes']\n",
      "['For Credit: YesAttendance: MandatoryWould Take Again: NoGrade: Not sure yetTextbook: Yes']\n",
      "['For Credit: YesAttendance: MandatoryWould Take Again: YesGrade: A+Textbook: No']\n",
      "['For Credit: YesAttendance: MandatoryWould Take Again: NoGrade: CTextbook: No']\n",
      "['For Credit: YesAttendance: MandatoryWould Take Again: YesGrade: ATextbook: No']\n",
      "['For Credit: YesAttendance: MandatoryWould Take Again: YesGrade: BTextbook: No']\n",
      "['For Credit: YesAttendance: MandatoryWould Take Again: YesTextbook: Yes']\n",
      "['For Credit: YesAttendance: MandatoryWould Take Again: YesGrade: ATextbook: Yes']\n",
      "['For Credit: YesAttendance: MandatoryWould Take Again: YesGrade: ATextbook: Yes']\n",
      "['For Credit: YesAttendance: MandatoryWould Take Again: YesGrade: A+Textbook: No']\n",
      "['For Credit: YesAttendance: MandatoryWould Take Again: YesGrade: ATextbook: Yes']\n",
      "['For Credit: YesAttendance: MandatoryWould Take Again: YesGrade: A-Textbook: Yes']\n",
      "['For Credit: YesAttendance: MandatoryWould Take Again: YesGrade: B+Textbook: Yes']\n",
      "['For Credit: YesAttendance: MandatoryWould Take Again: YesGrade: A+Textbook: Yes']\n",
      "['For Credit: YesAttendance: MandatoryWould Take Again: YesGrade: ATextbook: Yes']\n",
      "['For Credit: YesAttendance: MandatoryWould Take Again: YesGrade: Rather not sayTextbook: Yes']\n",
      "['For Credit: YesAttendance: MandatoryWould Take Again: YesGrade: C-Textbook: Yes']\n",
      "['For Credit: YesAttendance: MandatoryWould Take Again: YesGrade: ATextbook: Yes']\n",
      "['For Credit: YesAttendance: Not MandatoryWould Take Again: YesGrade: B+Textbook: Yes']\n"
     ]
    }
   ],
   "source": [
    "for elem in meta_data_list:\n",
    "    print(elem)"
   ]
  },
  {
   "cell_type": "code",
   "execution_count": 199,
   "metadata": {},
   "outputs": [],
   "source": [
    "comments = soup.find_all(\"div\", {\"class\" : \"Comments__StyledComments-dzzyvm-0 dvnRbr\"})"
   ]
  },
  {
   "cell_type": "code",
   "execution_count": 208,
   "metadata": {},
   "outputs": [],
   "source": [
    "comments_list = []\n",
    "\n",
    "for tag in comments:\n",
    "    comments_list.append([tag.string])"
   ]
  },
  {
   "cell_type": "code",
   "execution_count": 209,
   "metadata": {},
   "outputs": [
    {
     "name": "stdout",
     "output_type": "stream",
     "text": [
      "['there are 2 tests; midterm and final. on these exams, you write a program which he explained and covered programming exercises in the class. Funny class.']\n",
      "[\"Solid teacher! Lots of respect for him. Funny thing, had to retake his class twice because first time I thought it was stupid and so I quit. This time I legit paid attention to the material and he actually teaches stuff that is applicable in the real world. Also, he's quite knowledgeable.\"]\n",
      "['Not an easy class, but not a hard class either! Tips to passing his class are; do the examples he shows you and practice, practice, practice. Go over the powerpoints, or read the chapters before class. His tests are mostly based on what he has already shown you.']\n",
      "['I took COSC 2301 expecting to learn about Computer Organization, but I just ended up making C++ programs. You must know how to program in C++! For the exams make sure you study his in class assignments. He only gives a midterm and a final. Also he has a very low voice so make sure you sit at the front of the class so you can hear what he says!']\n",
      "[\"His class is easy to pass. You just need to show up and get to know his in-class assignments. He might not be straight-forward when it comes to what is going to be on his exams but know that it's going to be one of the programs that he worked in class. Memorize and absorb the material being shown to you and you'll get that A! Will take him again!\"]\n",
      "['In short his exams are taken from the in class questions. However, they are EXTREMELY difficult. Either you memorize the 5+ programs that may make an appearance on the exam or actually know how to solve each difficult problem. There were 2 projects. A create your own program and another project. The assigned project was beyond difficult.']\n",
      "['Amazing professor!! He knows what he is talking about.']\n",
      "['If you enjoy programming and learn better that way, Prof. Harris is the professor for you! He is probably the one known in the department that teaches you mostly through programming. That is good since he prepares you with questions that might be asked in the professional industry. His practice exercises are so useful & practice them for his tests.']\n",
      "['Great professor, I highly recommend taking professor Harris if you have the chance.']\n",
      "['Uses powerpoint sparingly. Other CS teachers spend too much time reading from the slides.']\n",
      "[\"He gives you a lot of freedom to learn what you want. He also let you know what you need to learn on the syllabus to pass the class. Most CS professors at uhd don't teach, but instead they pile you with a bunch of useless HW. Harris takes a different approach which gives you more freedom.  But if you don't like slow lectures, stay away.\"]\n",
      "['there are 2 tests; midterm and final. on these exams, you write a program which he explained and covered programming exercises in the class. Funny class.']\n",
      "['Good Professor, easy to approachable, helped me understand material simple way and explain topics by examples. Class discipline is key to his class. You can earn extra-credit if you do not miss his class and make end of semester class presentation. Well keep you phone away from you.']\n",
      "['Chemistry is not a easy subject. Thanks to Dr. Shaman for making it simple to learn and grasp. I took both Gen. Chem 1 and Gen Chem 2 this summer. Lot of learning. Professor is very particular how you do lab and fair in grading. Class discipline & 100 % attention required to make good grades. Kind of easy & hard prof. do not use your phone in class']\n",
      "['I was back to school after a gap of nearly 5 years, but his teaching skills very helpful. I highly recommend him to understand difficult topics. Offer extra credit, keep in mind its science class, you have to study to earn good grade.']\n",
      "[\"This is a great professor at UHD that hasn't been here for too long (but isn't really new either).   I love classes that focus on projects and actual hands on experience, as opposed to tests. Prof. Harris definitely shows that creativity and overall hard work matter very much in CS.\"]\n",
      "['I cannot think of better professor. He is highly encouraging, offer extra credit, great teaching style, always helpful and nice learning environment in his class. Do not use your phone during his class, you will enjoy.']\n",
      "['Excellent professor. Rest assured if you work hard in this class it will pay off in future courses. He encourages participation in lecture and lab and this helps students prepare for exams. Grading criteria is clearly outlined and homework questions are designed to help students with exams.']\n",
      "['I find this teacher much more reasonable and logical. His presentation of difficult topics was highly simplified to understand. He demands discipline, particular about due dates of online HW. I enjoyed and liked his teaching. Do not miss lab or lecture, you will be fine.']\n",
      "[\"He is a very good professor. There's a lot of work in the class which promotes a better understanding of the material. He is very interactive and provides real-world scenarios. He is very knowledgeable and always willing to help. He really wants the best for his students! UHD needs more professors like him!\"]\n",
      "['This guy is amazing. The material is hard, so therefore his tests are hard. There are ten VLC modules that you must write a paper on after completion. He grades incredibly hard, but he tells you EXACTLY what he is looking for in his grading criteria manual. He responds to emails in and extremely timely manner. Excellent professor!']\n"
     ]
    }
   ],
   "source": [
    "for item in comments_list:\n",
    "    print(item)"
   ]
  },
  {
   "cell_type": "code",
   "execution_count": null,
   "metadata": {},
   "outputs": [],
   "source": []
  }
 ],
 "metadata": {
  "kernelspec": {
   "display_name": "Python 3",
   "language": "python",
   "name": "python3"
  },
  "language_info": {
   "codemirror_mode": {
    "name": "ipython",
    "version": 3
   },
   "file_extension": ".py",
   "mimetype": "text/x-python",
   "name": "python",
   "nbconvert_exporter": "python",
   "pygments_lexer": "ipython3",
   "version": "3.8.3"
  }
 },
 "nbformat": 4,
 "nbformat_minor": 4
}
